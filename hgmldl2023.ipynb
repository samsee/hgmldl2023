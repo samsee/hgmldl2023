{
  "nbformat": 4,
  "nbformat_minor": 0,
  "metadata": {
    "colab": {
      "provenance": [],
      "authorship_tag": "ABX9TyP7M0DM1uCgSontcEfesuHI",
      "include_colab_link": true
    },
    "kernelspec": {
      "name": "python3",
      "display_name": "Python 3"
    },
    "language_info": {
      "name": "python"
    }
  },
  "cells": [
    {
      "cell_type": "markdown",
      "metadata": {
        "id": "view-in-github",
        "colab_type": "text"
      },
      "source": [
        "<a href=\"https://colab.research.google.com/github/samsee/hgmldl2023/blob/main/hgmldl2023.ipynb\" target=\"_parent\"><img src=\"https://colab.research.google.com/assets/colab-badge.svg\" alt=\"Open In Colab\"/></a>"
      ]
    },
    {
      "cell_type": "markdown",
      "source": [
        "# 혼자 공부하는 머신러닝 + 딥러닝\n",
        "\n",
        "* For : 혼공학습단 9기 스터디\n",
        "* 2023-01-02 ~ 2023-02-19\n",
        "* 저자 소스 리포 : https://github.com/rickiepark/hg-mldl\n",
        "* 책 링크 : http://aladin.kr/p/NM09a\n",
        "\n",
        "\n",
        "## 계획\n",
        "\n",
        "|주차(Until)|진도|미션(완료)|선택 미션(완료)|\n",
        "|---|---|---|---|\n",
        "|1주차(01/08)|Ch.01, 02|코랩 실습 화면 캡처하기⏹|Ch.02(02-1) 확인 문제 풀고, 풀이 과정 정리하기⏹|\n",
        "|2주차(01/15)|Ch.03|Ch.03(03-1) 2번 문제 출력 그래프 인증하기⏹|모델 파라미터에 대해 설명하기⏹|\n",
        "|3주차(01/22)|Ch.04|Ch.04(04-1) 2번 문제 풀고, 풀이 과정 설명하기⏹|Ch.04(04-2) 과대적합/과소적합 손코딩 코랩 화면 캡처하기⏹|\n",
        "|4주차(02/05)|Ch.05|교차 검증을 그림으로 설명하기⏹|Ch.05(05-3) 앙상블 모델 손코딩 코랩 화면 인증하기⏹|\n",
        "|5주차(02/12)|Ch.06|k-평균 알고리즘 작동 방식 설명하기⏹|Ch.06(06-3) 확인 문제 풀고, 풀이 과정 정리하기⏹|\n",
        "|6주차(02/19)|Ch.07|Ch.07(07-1) 확인 문제 풀고, 풀이 과정 정리하기⏹|Ch.07(07-2) 확인 문제 풀고, 풀이 과정 정리하기⏹|\n",
        "\n",
        "## 목표\n",
        "\n",
        "기왕 보는거 9장 까지 가보자고!\n"
      ],
      "metadata": {
        "id": "6ZJOfbP7Gu7H"
      }
    }
  ]
}